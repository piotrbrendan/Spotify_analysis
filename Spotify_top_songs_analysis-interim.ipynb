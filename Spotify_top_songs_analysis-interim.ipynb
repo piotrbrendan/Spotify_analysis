{
 "cells": [
  {
   "cell_type": "code",
   "execution_count": 442,
   "metadata": {},
   "outputs": [],
   "source": [
    "import pandas as pd\n",
    "import numpy as np\n",
    "import matplotlib.pyplot as plt\n",
    "import matplotlib.cm as cm\n",
    "import seaborn as sns\n",
    "\n",
    "import spotipy\n",
    "import spotipy.util as util\n",
    "from spotipy.oauth2 import SpotifyClientCredentials\n",
    "\n",
    "#author of the slope function: Pascal Schetelat https://github.com/pascal-schetelat\n",
    "from Slope.plotSlope import slope"
   ]
  },
  {
   "cell_type": "markdown",
   "metadata": {},
   "source": [
    "Esthetics settings"
   ]
  },
  {
   "cell_type": "code",
   "execution_count": 195,
   "metadata": {},
   "outputs": [],
   "source": [
    "sns.set_style(\n",
    "    \"white\", \n",
    "    {'axes.grid' : False,\n",
    "     'axes.edgecolor': '#A9A9A9',\n",
    "     'text.color':'#313b40'}\n",
    ")\n",
    "plt.rc(\"axes.spines\", top=False, right=False)\n",
    "\n",
    "#loading cmaps used\n",
    "c_redblue = cm.get_cmap('RdBu')\n",
    "\n",
    "#defining colors\n",
    "blue = c_redblue(0.7)\n",
    "blue_d = c_redblue(0.9)\n",
    "red = c_redblue(0.3)\n",
    "red_d = c_redblue(0.1)\n",
    "\n",
    "sns.set_palette('Spectral')"
   ]
  },
  {
   "cell_type": "markdown",
   "metadata": {},
   "source": [
    "Loading data of top 200 per each week of 2019 - data was collected from Spotify Charts (my script available in: load_data.py)<br>\n",
    "Below is an exemplary 1 week top 200 songs:\n",
    "https://spotifycharts.com/regional/global/weekly/2019-10-18--2019-10-25"
   ]
  },
  {
   "cell_type": "code",
   "execution_count": 151,
   "metadata": {},
   "outputs": [],
   "source": [
    "RANKING_URL = 'total_spotify_top_2019.csv'\n",
    "rnk_df = pd.read_csv(RANKING_URL,index_col=0)\n",
    "rnk_df.columns = rnk_df.columns.str.lower()"
   ]
  },
  {
   "cell_type": "markdown",
   "metadata": {},
   "source": [
    "Quick look at the data:"
   ]
  },
  {
   "cell_type": "code",
   "execution_count": 152,
   "metadata": {},
   "outputs": [
    {
     "data": {
      "text/html": [
       "<div>\n",
       "<style scoped>\n",
       "    .dataframe tbody tr th:only-of-type {\n",
       "        vertical-align: middle;\n",
       "    }\n",
       "\n",
       "    .dataframe tbody tr th {\n",
       "        vertical-align: top;\n",
       "    }\n",
       "\n",
       "    .dataframe thead th {\n",
       "        text-align: right;\n",
       "    }\n",
       "</style>\n",
       "<table border=\"1\" class=\"dataframe\">\n",
       "  <thead>\n",
       "    <tr style=\"text-align: right;\">\n",
       "      <th></th>\n",
       "      <th>position</th>\n",
       "      <th>track name</th>\n",
       "      <th>artist</th>\n",
       "      <th>streams</th>\n",
       "      <th>url</th>\n",
       "      <th>type</th>\n",
       "      <th>week_end_d</th>\n",
       "    </tr>\n",
       "  </thead>\n",
       "  <tbody>\n",
       "    <tr>\n",
       "      <th>0</th>\n",
       "      <td>1</td>\n",
       "      <td>thank u, next</td>\n",
       "      <td>Ariana Grande</td>\n",
       "      <td>31187542</td>\n",
       "      <td>https://open.spotify.com/track/2rPE9A1vEgShuZx...</td>\n",
       "      <td>global</td>\n",
       "      <td>2019-01-04</td>\n",
       "    </tr>\n",
       "    <tr>\n",
       "      <th>1</th>\n",
       "      <td>2</td>\n",
       "      <td>Sunflower - Spider-Man: Into the Spider-Verse</td>\n",
       "      <td>Post Malone</td>\n",
       "      <td>30229896</td>\n",
       "      <td>https://open.spotify.com/track/3KkXRkHbMCARz0a...</td>\n",
       "      <td>global</td>\n",
       "      <td>2019-01-04</td>\n",
       "    </tr>\n",
       "    <tr>\n",
       "      <th>2</th>\n",
       "      <td>3</td>\n",
       "      <td>Wow.</td>\n",
       "      <td>Post Malone</td>\n",
       "      <td>29083499</td>\n",
       "      <td>https://open.spotify.com/track/6MWtB6iiXyIwun0...</td>\n",
       "      <td>global</td>\n",
       "      <td>2019-01-04</td>\n",
       "    </tr>\n",
       "    <tr>\n",
       "      <th>3</th>\n",
       "      <td>4</td>\n",
       "      <td>Taki Taki (with Selena Gomez, Ozuna &amp; Cardi B)</td>\n",
       "      <td>DJ Snake</td>\n",
       "      <td>24784744</td>\n",
       "      <td>https://open.spotify.com/track/4w8niZpiMy6qz1m...</td>\n",
       "      <td>global</td>\n",
       "      <td>2019-01-04</td>\n",
       "    </tr>\n",
       "  </tbody>\n",
       "</table>\n",
       "</div>"
      ],
      "text/plain": [
       "   position                                      track name         artist  \\\n",
       "0         1                                   thank u, next  Ariana Grande   \n",
       "1         2   Sunflower - Spider-Man: Into the Spider-Verse    Post Malone   \n",
       "2         3                                            Wow.    Post Malone   \n",
       "3         4  Taki Taki (with Selena Gomez, Ozuna & Cardi B)       DJ Snake   \n",
       "\n",
       "    streams                                                url    type  \\\n",
       "0  31187542  https://open.spotify.com/track/2rPE9A1vEgShuZx...  global   \n",
       "1  30229896  https://open.spotify.com/track/3KkXRkHbMCARz0a...  global   \n",
       "2  29083499  https://open.spotify.com/track/6MWtB6iiXyIwun0...  global   \n",
       "3  24784744  https://open.spotify.com/track/4w8niZpiMy6qz1m...  global   \n",
       "\n",
       "   week_end_d  \n",
       "0  2019-01-04  \n",
       "1  2019-01-04  \n",
       "2  2019-01-04  \n",
       "3  2019-01-04  "
      ]
     },
     "execution_count": 152,
     "metadata": {},
     "output_type": "execute_result"
    }
   ],
   "source": [
    "rnk_df.head(4)"
   ]
  },
  {
   "cell_type": "markdown",
   "metadata": {},
   "source": [
    "### Christmas time analysis"
   ]
  },
  {
   "cell_type": "markdown",
   "metadata": {},
   "source": [
    "Because end of year is Christmas time I am curious if Christmas songs are really that popular I will check top 10 streams for the last week of the year and see which songs are most popular. What is more I will show how their no of streams has changed in the past 5 weeks before Christmas."
   ]
  },
  {
   "cell_type": "code",
   "execution_count": 153,
   "metadata": {},
   "outputs": [],
   "source": [
    "# adding artist_track column\n",
    "cols = ['artist','track name']\n",
    "rnk_df['artist_track'] = rnk_df[cols].apply(lambda x: ': '.join([c for c in x]), axis=1)\n",
    "\n",
    "# pivot data from long to wide format (for visualization purposes)\n",
    "# + choosing top 10 streamed songs during Christmast week and 5 weeks before them\n",
    "\n",
    "rnk_pivot_df = (\n",
    "    rnk_df.pivot_table(index=['artist_track'], columns='week_end_d', values='streams')\n",
    "          .sort_values('2019-12-27', ascending=False)\n",
    "          .iloc[:10,-6:] # last 10 rows present top 10 songs for last week of the year\n",
    ")\n",
    "rnk_pivot_df.columns = rnk_pivot_df.columns.values\n",
    "rnk_pivot_df = rnk_pivot_df.astype('float')"
   ]
  },
  {
   "cell_type": "markdown",
   "metadata": {},
   "source": [
    "E. Tufte Slope Graph\n",
    "(author of the slope function: Pascal Schetelat https://github.com/pascal-schetelat)\n",
    "\n",
    "Growing popularity of christmas songs (marked red line). <br>\n",
    "How did the no. of weekly streams changed during 6 weeks before year ends"
   ]
  },
  {
   "cell_type": "code",
   "execution_count": 154,
   "metadata": {
    "scrolled": false
   },
   "outputs": [
    {
     "data": {
      "image/png": "[encoded data removed]",
      "text/plain": [
       "<Figure size 540x840 with 12 Axes>"
      ]
     },
     "metadata": {},
     "output_type": "display_data"
    }
   ],
   "source": [
    "christmas_songs = ['Santa Tell Me','It\\'s Beginning to Look a Lot like Christmas',\n",
    "                   'Jingle Bell Rock', 'All I Want for Christmas Is You',\n",
    "                   'Rockin\\' Around The Christmas Tree', 'Wham!: Last Christmas']\n",
    "                   \n",
    "colors_mapped ={song:'red' for song in christmas_songs}\n",
    "\n",
    "f = slope(rnk_pivot_df.fillna(0)/1000000,\n",
    "          kind='interval',\n",
    "          height= 28,\n",
    "          width=18,\n",
    "          font_size=15,\n",
    "          color=colors_mapped,\n",
    "          title = 'Spotify most streamed',\n",
    "          marker='%0.f')"
   ]
  },
  {
   "cell_type": "markdown",
   "metadata": {},
   "source": [
    "Whoa! It looks like we do really listen to christmas songs during winter time, from approx. 0-10 mln streams per christmas song in the week ending 2019-11-22 to top 10 songs in the last week of the year.\n",
    "\n",
    "Below table with no. of streams in mln per each of the top 10 songs (2019-12-27)"
   ]
  },
  {
   "cell_type": "code",
   "execution_count": 155,
   "metadata": {},
   "outputs": [
    {
     "data": {
      "text/html": [
       "<div>\n",
       "<style scoped>\n",
       "    .dataframe tbody tr th:only-of-type {\n",
       "        vertical-align: middle;\n",
       "    }\n",
       "\n",
       "    .dataframe tbody tr th {\n",
       "        vertical-align: top;\n",
       "    }\n",
       "\n",
       "    .dataframe thead th {\n",
       "        text-align: right;\n",
       "    }\n",
       "</style>\n",
       "<table border=\"1\" class=\"dataframe\">\n",
       "  <thead>\n",
       "    <tr style=\"text-align: right;\">\n",
       "      <th></th>\n",
       "      <th>2019-11-22</th>\n",
       "      <th>2019-11-29</th>\n",
       "      <th>2019-12-06</th>\n",
       "      <th>2019-12-13</th>\n",
       "      <th>2019-12-20</th>\n",
       "      <th>2019-12-27</th>\n",
       "    </tr>\n",
       "    <tr>\n",
       "      <th>artist_track</th>\n",
       "      <th></th>\n",
       "      <th></th>\n",
       "      <th></th>\n",
       "      <th></th>\n",
       "      <th></th>\n",
       "      <th></th>\n",
       "    </tr>\n",
       "  </thead>\n",
       "  <tbody>\n",
       "    <tr>\n",
       "      <th>Tones and I: Dance Monkey</th>\n",
       "      <td>42.934057</td>\n",
       "      <td>44.289739</td>\n",
       "      <td>44.439902</td>\n",
       "      <td>43.643723</td>\n",
       "      <td>46.760593</td>\n",
       "      <td>47.797217</td>\n",
       "    </tr>\n",
       "    <tr>\n",
       "      <th>Mariah Carey: All I Want for Christmas Is You</th>\n",
       "      <td>8.344450</td>\n",
       "      <td>12.612693</td>\n",
       "      <td>22.394175</td>\n",
       "      <td>24.024043</td>\n",
       "      <td>27.155209</td>\n",
       "      <td>45.828931</td>\n",
       "    </tr>\n",
       "    <tr>\n",
       "      <th>Wham!: Last Christmas</th>\n",
       "      <td>6.166454</td>\n",
       "      <td>9.167657</td>\n",
       "      <td>17.615075</td>\n",
       "      <td>19.402441</td>\n",
       "      <td>21.975011</td>\n",
       "      <td>37.725693</td>\n",
       "    </tr>\n",
       "    <tr>\n",
       "      <th>Arizona Zervas: ROXANNE</th>\n",
       "      <td>30.284841</td>\n",
       "      <td>31.871446</td>\n",
       "      <td>31.485166</td>\n",
       "      <td>30.315675</td>\n",
       "      <td>32.668758</td>\n",
       "      <td>32.309199</td>\n",
       "    </tr>\n",
       "    <tr>\n",
       "      <th>Ariana Grande: Santa Tell Me</th>\n",
       "      <td>5.121609</td>\n",
       "      <td>7.367685</td>\n",
       "      <td>14.107437</td>\n",
       "      <td>15.382577</td>\n",
       "      <td>17.011748</td>\n",
       "      <td>27.506141</td>\n",
       "    </tr>\n",
       "    <tr>\n",
       "      <th>KAROL G: Tusa</th>\n",
       "      <td>11.911506</td>\n",
       "      <td>17.995065</td>\n",
       "      <td>20.584187</td>\n",
       "      <td>20.705354</td>\n",
       "      <td>22.973234</td>\n",
       "      <td>26.024449</td>\n",
       "    </tr>\n",
       "    <tr>\n",
       "      <th>Michael Bublé: It's Beginning to Look a Lot like Christmas</th>\n",
       "      <td>0.000000</td>\n",
       "      <td>6.183295</td>\n",
       "      <td>12.258394</td>\n",
       "      <td>13.521227</td>\n",
       "      <td>14.847978</td>\n",
       "      <td>25.997383</td>\n",
       "    </tr>\n",
       "    <tr>\n",
       "      <th>Trevor Daniel: Falling</th>\n",
       "      <td>7.610731</td>\n",
       "      <td>17.357222</td>\n",
       "      <td>20.635758</td>\n",
       "      <td>21.977727</td>\n",
       "      <td>25.310607</td>\n",
       "      <td>25.122335</td>\n",
       "    </tr>\n",
       "    <tr>\n",
       "      <th>Maroon 5: Memories</th>\n",
       "      <td>30.696174</td>\n",
       "      <td>29.678784</td>\n",
       "      <td>28.348963</td>\n",
       "      <td>25.747069</td>\n",
       "      <td>26.681377</td>\n",
       "      <td>25.107372</td>\n",
       "    </tr>\n",
       "    <tr>\n",
       "      <th>Bobby Helms: Jingle Bell Rock</th>\n",
       "      <td>0.000000</td>\n",
       "      <td>5.558342</td>\n",
       "      <td>10.901943</td>\n",
       "      <td>12.457545</td>\n",
       "      <td>14.040340</td>\n",
       "      <td>24.951120</td>\n",
       "    </tr>\n",
       "  </tbody>\n",
       "</table>\n",
       "</div>"
      ],
      "text/plain": [
       "                                                    2019-11-22  2019-11-29  \\\n",
       "artist_track                                                                 \n",
       "Tones and I: Dance Monkey                            42.934057   44.289739   \n",
       "Mariah Carey: All I Want for Christmas Is You         8.344450   12.612693   \n",
       "Wham!: Last Christmas                                 6.166454    9.167657   \n",
       "Arizona Zervas: ROXANNE                              30.284841   31.871446   \n",
       "Ariana Grande: Santa Tell Me                          5.121609    7.367685   \n",
       "KAROL G: Tusa                                        11.911506   17.995065   \n",
       "Michael Bublé: It's Beginning to Look a Lot lik...    0.000000    6.183295   \n",
       "Trevor Daniel: Falling                                7.610731   17.357222   \n",
       "Maroon 5: Memories                                   30.696174   29.678784   \n",
       "Bobby Helms: Jingle Bell Rock                         0.000000    5.558342   \n",
       "\n",
       "                                                    2019-12-06  2019-12-13  \\\n",
       "artist_track                                                                 \n",
       "Tones and I: Dance Monkey                            44.439902   43.643723   \n",
       "Mariah Carey: All I Want for Christmas Is You        22.394175   24.024043   \n",
       "Wham!: Last Christmas                                17.615075   19.402441   \n",
       "Arizona Zervas: ROXANNE                              31.485166   30.315675   \n",
       "Ariana Grande: Santa Tell Me                         14.107437   15.382577   \n",
       "KAROL G: Tusa                                        20.584187   20.705354   \n",
       "Michael Bublé: It's Beginning to Look a Lot lik...   12.258394   13.521227   \n",
       "Trevor Daniel: Falling                               20.635758   21.977727   \n",
       "Maroon 5: Memories                                   28.348963   25.747069   \n",
       "Bobby Helms: Jingle Bell Rock                        10.901943   12.457545   \n",
       "\n",
       "                                                    2019-12-20  2019-12-27  \n",
       "artist_track                                                                \n",
       "Tones and I: Dance Monkey                            46.760593   47.797217  \n",
       "Mariah Carey: All I Want for Christmas Is You        27.155209   45.828931  \n",
       "Wham!: Last Christmas                                21.975011   37.725693  \n",
       "Arizona Zervas: ROXANNE                              32.668758   32.309199  \n",
       "Ariana Grande: Santa Tell Me                         17.011748   27.506141  \n",
       "KAROL G: Tusa                                        22.973234   26.024449  \n",
       "Michael Bublé: It's Beginning to Look a Lot lik...   14.847978   25.997383  \n",
       "Trevor Daniel: Falling                               25.310607   25.122335  \n",
       "Maroon 5: Memories                                   26.681377   25.107372  \n",
       "Bobby Helms: Jingle Bell Rock                        14.040340   24.951120  "
      ]
     },
     "execution_count": 155,
     "metadata": {},
     "output_type": "execute_result"
    }
   ],
   "source": [
    "#numbers in millions\n",
    "rnk_pivot_df.fillna(0)/1000000"
   ]
  },
  {
   "cell_type": "markdown",
   "metadata": {},
   "source": [
    "5/10 top streamed songs on Spotify during the week ending 2019-12-27 are christmas related song, this is crazy."
   ]
  },
  {
   "cell_type": "code",
   "execution_count": 156,
   "metadata": {},
   "outputs": [],
   "source": [
    "rnk_pivot_df = rnk_df.pivot_table(index=['artist_track'], columns='week_end_d', values='streams')"
   ]
  },
  {
   "cell_type": "markdown",
   "metadata": {},
   "source": [
    "### Top streamed for the whole 2019 \n",
    "Some track were produced during 2019, so they are not comparable, but the aim is to see which tracks were most popular, not those that will have in total the highest no of streams in general."
   ]
  },
  {
   "cell_type": "code",
   "execution_count": 157,
   "metadata": {},
   "outputs": [
    {
     "data": {
      "text/html": [
       "<style  type=\"text/css\" >\n",
       "</style><table id=\"T_12139f70_314e_11ea_adc2_a0a4c561886a\" ><thead>    <tr>        <th class=\"blank\" ></th>        <th class=\"blank level0\" ></th>        <th class=\"col_heading level0 col0\" >streams</th>    </tr>    <tr>        <th class=\"index_name level0\" >track name</th>        <th class=\"index_name level1\" >artist</th>        <th class=\"blank\" ></th>    </tr></thead><tbody>\n",
       "                <tr>\n",
       "                        <th id=\"T_12139f70_314e_11ea_adc2_a0a4c561886alevel0_row0\" class=\"row_heading level0 row0\" >Señorita</th>\n",
       "                        <th id=\"T_12139f70_314e_11ea_adc2_a0a4c561886alevel1_row0\" class=\"row_heading level1 row0\" >Shawn Mendes</th>\n",
       "                        <td id=\"T_12139f70_314e_11ea_adc2_a0a4c561886arow0_col0\" class=\"data row0 col0\" >1,081,998,529</td>\n",
       "            </tr>\n",
       "            <tr>\n",
       "                        <th id=\"T_12139f70_314e_11ea_adc2_a0a4c561886alevel0_row1\" class=\"row_heading level0 row1\" >bad guy</th>\n",
       "                        <th id=\"T_12139f70_314e_11ea_adc2_a0a4c561886alevel1_row1\" class=\"row_heading level1 row1\" >Billie Eilish</th>\n",
       "                        <td id=\"T_12139f70_314e_11ea_adc2_a0a4c561886arow1_col0\" class=\"data row1 col0\" >1,053,456,087</td>\n",
       "            </tr>\n",
       "            <tr>\n",
       "                        <th id=\"T_12139f70_314e_11ea_adc2_a0a4c561886alevel0_row2\" class=\"row_heading level0 row2\" >Sunflower - Spider-Man: Into the Spider-Verse</th>\n",
       "                        <th id=\"T_12139f70_314e_11ea_adc2_a0a4c561886alevel1_row2\" class=\"row_heading level1 row2\" >Post Malone</th>\n",
       "                        <td id=\"T_12139f70_314e_11ea_adc2_a0a4c561886arow2_col0\" class=\"data row2 col0\" >1,018,288,528</td>\n",
       "            </tr>\n",
       "            <tr>\n",
       "                        <th id=\"T_12139f70_314e_11ea_adc2_a0a4c561886alevel0_row3\" class=\"row_heading level0 row3\" >7 rings</th>\n",
       "                        <th id=\"T_12139f70_314e_11ea_adc2_a0a4c561886alevel1_row3\" class=\"row_heading level1 row3\" >Ariana Grande</th>\n",
       "                        <td id=\"T_12139f70_314e_11ea_adc2_a0a4c561886arow3_col0\" class=\"data row3 col0\" >976,173,692</td>\n",
       "            </tr>\n",
       "            <tr>\n",
       "                        <th id=\"T_12139f70_314e_11ea_adc2_a0a4c561886alevel0_row4\" class=\"row_heading level0 row4\" >Someone You Loved</th>\n",
       "                        <th id=\"T_12139f70_314e_11ea_adc2_a0a4c561886alevel1_row4\" class=\"row_heading level1 row4\" >Lewis Capaldi</th>\n",
       "                        <td id=\"T_12139f70_314e_11ea_adc2_a0a4c561886arow4_col0\" class=\"data row4 col0\" >831,741,702</td>\n",
       "            </tr>\n",
       "            <tr>\n",
       "                        <th id=\"T_12139f70_314e_11ea_adc2_a0a4c561886alevel0_row5\" class=\"row_heading level0 row5\" >I Don't Care (with Justin Bieber)</th>\n",
       "                        <th id=\"T_12139f70_314e_11ea_adc2_a0a4c561886alevel1_row5\" class=\"row_heading level1 row5\" >Ed Sheeran</th>\n",
       "                        <td id=\"T_12139f70_314e_11ea_adc2_a0a4c561886arow5_col0\" class=\"data row5 col0\" >820,322,424</td>\n",
       "            </tr>\n",
       "            <tr>\n",
       "                        <th id=\"T_12139f70_314e_11ea_adc2_a0a4c561886alevel0_row6\" class=\"row_heading level0 row6\" >Wow.</th>\n",
       "                        <th id=\"T_12139f70_314e_11ea_adc2_a0a4c561886alevel1_row6\" class=\"row_heading level1 row6\" >Post Malone</th>\n",
       "                        <td id=\"T_12139f70_314e_11ea_adc2_a0a4c561886arow6_col0\" class=\"data row6 col0\" >775,156,628</td>\n",
       "            </tr>\n",
       "            <tr>\n",
       "                        <th id=\"T_12139f70_314e_11ea_adc2_a0a4c561886alevel0_row7\" class=\"row_heading level0 row7\" >Dance Monkey</th>\n",
       "                        <th id=\"T_12139f70_314e_11ea_adc2_a0a4c561886alevel1_row7\" class=\"row_heading level1 row7\" >Tones and I</th>\n",
       "                        <td id=\"T_12139f70_314e_11ea_adc2_a0a4c561886arow7_col0\" class=\"data row7 col0\" >745,353,098</td>\n",
       "            </tr>\n",
       "            <tr>\n",
       "                        <th id=\"T_12139f70_314e_11ea_adc2_a0a4c561886alevel0_row8\" class=\"row_heading level0 row8\" >Shallow</th>\n",
       "                        <th id=\"T_12139f70_314e_11ea_adc2_a0a4c561886alevel1_row8\" class=\"row_heading level1 row8\" >Lady Gaga</th>\n",
       "                        <td id=\"T_12139f70_314e_11ea_adc2_a0a4c561886arow8_col0\" class=\"data row8 col0\" >728,673,266</td>\n",
       "            </tr>\n",
       "            <tr>\n",
       "                        <th id=\"T_12139f70_314e_11ea_adc2_a0a4c561886alevel0_row9\" class=\"row_heading level0 row9\" >Con Calma</th>\n",
       "                        <th id=\"T_12139f70_314e_11ea_adc2_a0a4c561886alevel1_row9\" class=\"row_heading level1 row9\" >Daddy Yankee</th>\n",
       "                        <td id=\"T_12139f70_314e_11ea_adc2_a0a4c561886arow9_col0\" class=\"data row9 col0\" >721,037,345</td>\n",
       "            </tr>\n",
       "    </tbody></table>"
      ],
      "text/plain": [
       "<pandas.io.formats.style.Styler at 0x2562f4efbc8>"
      ]
     },
     "execution_count": 157,
     "metadata": {},
     "output_type": "execute_result"
    }
   ],
   "source": [
    "(rnk_df.fillna(0).groupby(['track name','artist'])\n",
    "                 .agg({'streams':'sum'})\n",
    "                 .sort_values('streams', ascending=False).head(10)\n",
    "                 .style.format('{:,.0f}'))"
   ]
  },
  {
   "cell_type": "markdown",
   "metadata": {},
   "source": [
    "Which songs were among top200 for the longest no. of weeks and how long was that? + How many streams did they have?"
   ]
  },
  {
   "cell_type": "code",
   "execution_count": 158,
   "metadata": {
    "scrolled": false
   },
   "outputs": [
    {
     "data": {
      "text/html": [
       "<style  type=\"text/css\" >\n",
       "</style><table id=\"T_12ddc1e2_314e_11ea_afe8_a0a4c561886a\" ><thead>    <tr>        <th class=\"blank\" ></th>        <th class=\"blank level0\" ></th>        <th class=\"col_heading level0 col0\" >position</th>        <th class=\"col_heading level0 col1\" >streams</th>    </tr>    <tr>        <th class=\"index_name level0\" >track name</th>        <th class=\"index_name level1\" >artist</th>        <th class=\"blank\" ></th>        <th class=\"blank\" ></th>    </tr></thead><tbody>\n",
       "                <tr>\n",
       "                        <th id=\"T_12ddc1e2_314e_11ea_afe8_a0a4c561886alevel0_row0\" class=\"row_heading level0 row0\" >Sunflower - Spider-Man: Into the Spider-Verse</th>\n",
       "                        <th id=\"T_12ddc1e2_314e_11ea_afe8_a0a4c561886alevel1_row0\" class=\"row_heading level1 row0\" >Post Malone</th>\n",
       "                        <td id=\"T_12ddc1e2_314e_11ea_afe8_a0a4c561886arow0_col0\" class=\"data row0 col0\" >52</td>\n",
       "                        <td id=\"T_12ddc1e2_314e_11ea_afe8_a0a4c561886arow0_col1\" class=\"data row0 col1\" >1,018,288,528</td>\n",
       "            </tr>\n",
       "            <tr>\n",
       "                        <th id=\"T_12ddc1e2_314e_11ea_afe8_a0a4c561886alevel0_row1\" class=\"row_heading level0 row1\" >Wow.</th>\n",
       "                        <th id=\"T_12ddc1e2_314e_11ea_afe8_a0a4c561886alevel1_row1\" class=\"row_heading level1 row1\" >Post Malone</th>\n",
       "                        <td id=\"T_12ddc1e2_314e_11ea_afe8_a0a4c561886arow1_col0\" class=\"data row1 col0\" >52</td>\n",
       "                        <td id=\"T_12ddc1e2_314e_11ea_afe8_a0a4c561886arow1_col1\" class=\"data row1 col1\" >775,156,628</td>\n",
       "            </tr>\n",
       "            <tr>\n",
       "                        <th id=\"T_12ddc1e2_314e_11ea_afe8_a0a4c561886alevel0_row2\" class=\"row_heading level0 row2\" >Shallow</th>\n",
       "                        <th id=\"T_12ddc1e2_314e_11ea_afe8_a0a4c561886alevel1_row2\" class=\"row_heading level1 row2\" >Lady Gaga</th>\n",
       "                        <td id=\"T_12ddc1e2_314e_11ea_afe8_a0a4c561886arow2_col0\" class=\"data row2 col0\" >52</td>\n",
       "                        <td id=\"T_12ddc1e2_314e_11ea_afe8_a0a4c561886arow2_col1\" class=\"data row2 col1\" >728,673,266</td>\n",
       "            </tr>\n",
       "            <tr>\n",
       "                        <th id=\"T_12ddc1e2_314e_11ea_afe8_a0a4c561886alevel0_row3\" class=\"row_heading level0 row3\" >Happier</th>\n",
       "                        <th id=\"T_12ddc1e2_314e_11ea_afe8_a0a4c561886alevel1_row3\" class=\"row_heading level1 row3\" >Marshmello</th>\n",
       "                        <td id=\"T_12ddc1e2_314e_11ea_afe8_a0a4c561886arow3_col0\" class=\"data row3 col0\" >52</td>\n",
       "                        <td id=\"T_12ddc1e2_314e_11ea_afe8_a0a4c561886arow3_col1\" class=\"data row3 col1\" >634,161,629</td>\n",
       "            </tr>\n",
       "            <tr>\n",
       "                        <th id=\"T_12ddc1e2_314e_11ea_afe8_a0a4c561886alevel0_row4\" class=\"row_heading level0 row4\" >Without Me</th>\n",
       "                        <th id=\"T_12ddc1e2_314e_11ea_afe8_a0a4c561886alevel1_row4\" class=\"row_heading level1 row4\" >Halsey</th>\n",
       "                        <td id=\"T_12ddc1e2_314e_11ea_afe8_a0a4c561886arow4_col0\" class=\"data row4 col0\" >52</td>\n",
       "                        <td id=\"T_12ddc1e2_314e_11ea_afe8_a0a4c561886arow4_col1\" class=\"data row4 col1\" >625,547,718</td>\n",
       "            </tr>\n",
       "            <tr>\n",
       "                        <th id=\"T_12ddc1e2_314e_11ea_afe8_a0a4c561886alevel0_row5\" class=\"row_heading level0 row5\" >thank u, next</th>\n",
       "                        <th id=\"T_12ddc1e2_314e_11ea_afe8_a0a4c561886alevel1_row5\" class=\"row_heading level1 row5\" >Ariana Grande</th>\n",
       "                        <td id=\"T_12ddc1e2_314e_11ea_afe8_a0a4c561886arow5_col0\" class=\"data row5 col0\" >52</td>\n",
       "                        <td id=\"T_12ddc1e2_314e_11ea_afe8_a0a4c561886arow5_col1\" class=\"data row5 col1\" >620,009,088</td>\n",
       "            </tr>\n",
       "            <tr>\n",
       "                        <th id=\"T_12ddc1e2_314e_11ea_afe8_a0a4c561886alevel0_row6\" class=\"row_heading level0 row6\" >Sweet but Psycho</th>\n",
       "                        <th id=\"T_12ddc1e2_314e_11ea_afe8_a0a4c561886alevel1_row6\" class=\"row_heading level1 row6\" >Ava Max</th>\n",
       "                        <td id=\"T_12ddc1e2_314e_11ea_afe8_a0a4c561886arow6_col0\" class=\"data row6 col0\" >52</td>\n",
       "                        <td id=\"T_12ddc1e2_314e_11ea_afe8_a0a4c561886arow6_col1\" class=\"data row6 col1\" >601,854,032</td>\n",
       "            </tr>\n",
       "            <tr>\n",
       "                        <th id=\"T_12ddc1e2_314e_11ea_afe8_a0a4c561886alevel0_row7\" class=\"row_heading level0 row7\" >when the party's over</th>\n",
       "                        <th id=\"T_12ddc1e2_314e_11ea_afe8_a0a4c561886alevel1_row7\" class=\"row_heading level1 row7\" >Billie Eilish</th>\n",
       "                        <td id=\"T_12ddc1e2_314e_11ea_afe8_a0a4c561886arow7_col0\" class=\"data row7 col0\" >52</td>\n",
       "                        <td id=\"T_12ddc1e2_314e_11ea_afe8_a0a4c561886arow7_col1\" class=\"data row7 col1\" >532,075,896</td>\n",
       "            </tr>\n",
       "            <tr>\n",
       "                        <th id=\"T_12ddc1e2_314e_11ea_afe8_a0a4c561886alevel0_row8\" class=\"row_heading level0 row8\" >SICKO MODE</th>\n",
       "                        <th id=\"T_12ddc1e2_314e_11ea_afe8_a0a4c561886alevel1_row8\" class=\"row_heading level1 row8\" >Travis Scott</th>\n",
       "                        <td id=\"T_12ddc1e2_314e_11ea_afe8_a0a4c561886arow8_col0\" class=\"data row8 col0\" >52</td>\n",
       "                        <td id=\"T_12ddc1e2_314e_11ea_afe8_a0a4c561886arow8_col1\" class=\"data row8 col1\" >468,880,652</td>\n",
       "            </tr>\n",
       "            <tr>\n",
       "                        <th id=\"T_12ddc1e2_314e_11ea_afe8_a0a4c561886alevel0_row9\" class=\"row_heading level0 row9\" >Bohemian Rhapsody - 2011 Mix</th>\n",
       "                        <th id=\"T_12ddc1e2_314e_11ea_afe8_a0a4c561886alevel1_row9\" class=\"row_heading level1 row9\" >Queen</th>\n",
       "                        <td id=\"T_12ddc1e2_314e_11ea_afe8_a0a4c561886arow9_col0\" class=\"data row9 col0\" >52</td>\n",
       "                        <td id=\"T_12ddc1e2_314e_11ea_afe8_a0a4c561886arow9_col1\" class=\"data row9 col1\" >449,547,245</td>\n",
       "            </tr>\n",
       "            <tr>\n",
       "                        <th id=\"T_12ddc1e2_314e_11ea_afe8_a0a4c561886alevel0_row10\" class=\"row_heading level0 row10\" >Lucid Dreams</th>\n",
       "                        <th id=\"T_12ddc1e2_314e_11ea_afe8_a0a4c561886alevel1_row10\" class=\"row_heading level1 row10\" >Juice WRLD</th>\n",
       "                        <td id=\"T_12ddc1e2_314e_11ea_afe8_a0a4c561886arow10_col0\" class=\"data row10 col0\" >52</td>\n",
       "                        <td id=\"T_12ddc1e2_314e_11ea_afe8_a0a4c561886arow10_col1\" class=\"data row10 col1\" >416,658,379</td>\n",
       "            </tr>\n",
       "            <tr>\n",
       "                        <th id=\"T_12ddc1e2_314e_11ea_afe8_a0a4c561886alevel0_row11\" class=\"row_heading level0 row11\" >Better Now</th>\n",
       "                        <th id=\"T_12ddc1e2_314e_11ea_afe8_a0a4c561886alevel1_row11\" class=\"row_heading level1 row11\" >Post Malone</th>\n",
       "                        <td id=\"T_12ddc1e2_314e_11ea_afe8_a0a4c561886arow11_col0\" class=\"data row11 col0\" >52</td>\n",
       "                        <td id=\"T_12ddc1e2_314e_11ea_afe8_a0a4c561886arow11_col1\" class=\"data row11 col1\" >413,365,811</td>\n",
       "            </tr>\n",
       "            <tr>\n",
       "                        <th id=\"T_12ddc1e2_314e_11ea_afe8_a0a4c561886alevel0_row12\" class=\"row_heading level0 row12\" >rockstar (feat. 21 Savage)</th>\n",
       "                        <th id=\"T_12ddc1e2_314e_11ea_afe8_a0a4c561886alevel1_row12\" class=\"row_heading level1 row12\" >Post Malone</th>\n",
       "                        <td id=\"T_12ddc1e2_314e_11ea_afe8_a0a4c561886arow12_col0\" class=\"data row12 col0\" >52</td>\n",
       "                        <td id=\"T_12ddc1e2_314e_11ea_afe8_a0a4c561886arow12_col1\" class=\"data row12 col1\" >401,240,629</td>\n",
       "            </tr>\n",
       "            <tr>\n",
       "                        <th id=\"T_12ddc1e2_314e_11ea_afe8_a0a4c561886alevel0_row13\" class=\"row_heading level0 row13\" >Girls Like You (feat. Cardi B)</th>\n",
       "                        <th id=\"T_12ddc1e2_314e_11ea_afe8_a0a4c561886alevel1_row13\" class=\"row_heading level1 row13\" >Maroon 5</th>\n",
       "                        <td id=\"T_12ddc1e2_314e_11ea_afe8_a0a4c561886arow13_col0\" class=\"data row13 col0\" >52</td>\n",
       "                        <td id=\"T_12ddc1e2_314e_11ea_afe8_a0a4c561886arow13_col1\" class=\"data row13 col1\" >397,870,955</td>\n",
       "            </tr>\n",
       "            <tr>\n",
       "                        <th id=\"T_12ddc1e2_314e_11ea_afe8_a0a4c561886alevel0_row14\" class=\"row_heading level0 row14\" >SAD!</th>\n",
       "                        <th id=\"T_12ddc1e2_314e_11ea_afe8_a0a4c561886alevel1_row14\" class=\"row_heading level1 row14\" >XXXTENTACION</th>\n",
       "                        <td id=\"T_12ddc1e2_314e_11ea_afe8_a0a4c561886arow14_col0\" class=\"data row14 col0\" >52</td>\n",
       "                        <td id=\"T_12ddc1e2_314e_11ea_afe8_a0a4c561886arow14_col1\" class=\"data row14 col1\" >370,620,253</td>\n",
       "            </tr>\n",
       "            <tr>\n",
       "                        <th id=\"T_12ddc1e2_314e_11ea_afe8_a0a4c561886alevel0_row15\" class=\"row_heading level0 row15\" >Shape of You</th>\n",
       "                        <th id=\"T_12ddc1e2_314e_11ea_afe8_a0a4c561886alevel1_row15\" class=\"row_heading level1 row15\" >Ed Sheeran</th>\n",
       "                        <td id=\"T_12ddc1e2_314e_11ea_afe8_a0a4c561886arow15_col0\" class=\"data row15 col0\" >52</td>\n",
       "                        <td id=\"T_12ddc1e2_314e_11ea_afe8_a0a4c561886arow15_col1\" class=\"data row15 col1\" >356,268,405</td>\n",
       "            </tr>\n",
       "            <tr>\n",
       "                        <th id=\"T_12ddc1e2_314e_11ea_afe8_a0a4c561886alevel0_row16\" class=\"row_heading level0 row16\" >Believer</th>\n",
       "                        <th id=\"T_12ddc1e2_314e_11ea_afe8_a0a4c561886alevel1_row16\" class=\"row_heading level1 row16\" >Imagine Dragons</th>\n",
       "                        <td id=\"T_12ddc1e2_314e_11ea_afe8_a0a4c561886arow16_col0\" class=\"data row16 col0\" >52</td>\n",
       "                        <td id=\"T_12ddc1e2_314e_11ea_afe8_a0a4c561886arow16_col1\" class=\"data row16 col1\" >346,596,848</td>\n",
       "            </tr>\n",
       "    </tbody></table>"
      ],
      "text/plain": [
       "<pandas.io.formats.style.Styler at 0x2562f55e4c8>"
      ]
     },
     "execution_count": 158,
     "metadata": {},
     "output_type": "execute_result"
    }
   ],
   "source": [
    "def longest_inside_top200(rnk_df):\n",
    "    rnk_pos_df = (\n",
    "        rnk_df.groupby(['track name','artist'])\n",
    "              .agg({'position':'count',\n",
    "                    'streams':'sum'})\n",
    "              .sort_values('streams', ascending=False)\n",
    "    )\n",
    "    \n",
    "    return rnk_pos_df[rnk_pos_df['position'] == rnk_pos_df['position'].max()].style.format('{:,.0f}')\n",
    "\n",
    "longest_inside_top200(rnk_df)"
   ]
  },
  {
   "cell_type": "markdown",
   "metadata": {},
   "source": [
    "There were 17 songs that did not leave the top 200 list during every week of 2019."
   ]
  },
  {
   "cell_type": "markdown",
   "metadata": {},
   "source": [
    "### How long does the top song remained in the list (counting consecutive sequences)? <br>\n",
    "Below is the distribuion of longest sequence per each track that was at least once in the top 200 during 2019.<br>\n",
    "Please note that those durations will be affected (lowered) by the fact that we do not know how will top 200 of the last week of December perform in the future (here for the sake of simplicity it is assumed that their sequence is finished). "
   ]
  },
  {
   "cell_type": "code",
   "execution_count": 203,
   "metadata": {},
   "outputs": [
    {
     "data": {
      "image/png": "[encoded data removed]",
      "text/plain": [
       "<Figure size 864x720 with 2 Axes>"
      ]
     },
     "metadata": {},
     "output_type": "display_data"
    }
   ],
   "source": [
    "def analyse_sequences(rnk_pivot_df):\n",
    "    \n",
    "    rnk_processed_df = rnk_pivot_df.T.isnull()\n",
    "    seq_data = rnk_processed_df.cumsum().apply(lambda x: np.max(pd.value_counts(x)))\n",
    "    seq_data_grp = rnk_processed_df.cumsum().apply(lambda x: np.max(pd.value_counts(x))).value_counts().sort_index(ascending=False)\n",
    "    \n",
    "    fig, axs = plt.subplots(2,1, figsize=(12,10))\n",
    "    \n",
    "    sns.despine()\n",
    "    axs[0].title.set_text('Distribution of sequences\\' lengths:\\n how long do tracks stay in top200')\n",
    "    axs[0].set_xlabel('No. of consecutive months in top 200')\n",
    "    sns.countplot(seq_data, palette='Spectral',ax=axs[0])\n",
    "    axs[1].title.set_text('Cumulative distribution of sequences\\' lengths')\n",
    "    axs[1].hist(seq_data,cumulative=True, density=True, bins=30)\n",
    "    axs[1].set_xlabel('No. of consecutive months in top 200')\n",
    "    \n",
    "    return seq_data\n",
    "\n",
    "seq_data = analyse_sequences(rnk_pivot_df)"
   ]
  },
  {
   "cell_type": "code",
   "execution_count": 197,
   "metadata": {
    "scrolled": false
   },
   "outputs": [
    {
     "data": {
      "text/plain": [
       "count    1058.000000\n",
       "mean       10.329868\n",
       "std        12.072153\n",
       "min         1.000000\n",
       "25%         2.000000\n",
       "50%         5.000000\n",
       "75%        14.000000\n",
       "max        52.000000\n",
       "dtype: float64"
      ]
     },
     "execution_count": 197,
     "metadata": {},
     "output_type": "execute_result"
    }
   ],
   "source": [
    "seq_data.describe()"
   ]
  },
  {
   "cell_type": "markdown",
   "metadata": {},
   "source": [
    "We can see that being in the top on Spotify is rather not easy to maintain - mode was 2 weeks and in general we can see that vast majority (approx. 70% of tracks) leave top200 list before 10th consequtive week. "
   ]
  },
  {
   "cell_type": "markdown",
   "metadata": {},
   "source": [
    "### Deeper dive - getting and understanding top songs audio features\n",
    "\n",
    "Now I will try to enrich this dataset and download some metadata regarding top songs. I will search for each track spotify id to be able to download data on audio features through Spotify API.<br>\n",
    "Here is the reference:\n",
    "https://developer.spotify.com/documentation/web-api/reference/tracks/get-several-audio-features/"
   ]
  },
  {
   "cell_type": "code",
   "execution_count": 282,
   "metadata": {},
   "outputs": [],
   "source": [
    "SPOTIFY_ID = None # put your spotify app id here\n",
    "SPOTIFY_SECRET = None #put your secret here\n",
    "\n",
    "client_credentials_manager = (\n",
    "    SpotifyClientCredentials(\n",
    "        client_id=SPOTIFY_ID, \n",
    "        client_secret=SPOTIFY_SECRET)\n",
    "    )\n",
    "\n",
    "spotify = spotipy.Spotify(client_credentials_manager = client_credentials_manager)"
   ]
  },
  {
   "cell_type": "markdown",
   "metadata": {},
   "source": [
    "Generate distinct pairs - artists-track_name"
   ]
  },
  {
   "cell_type": "code",
   "execution_count": 283,
   "metadata": {},
   "outputs": [
    {
     "data": {
      "text/plain": [
       "array(['thank u, next', 'Ariana Grande'], dtype=object)"
      ]
     },
     "execution_count": 283,
     "metadata": {},
     "output_type": "execute_result"
    }
   ],
   "source": [
    "distinct_artists_tracks = rnk_df[['track name','artist']].drop_duplicates().values\n",
    "distinct_artists_tracks[0]"
   ]
  },
  {
   "cell_type": "code",
   "execution_count": 316,
   "metadata": {},
   "outputs": [],
   "source": [
    "def get_track_metadata(t_name, a_name):\n",
    "    '''Downloads metadata for a specific track name and artist name:\n",
    "        - track id (needed to enrich data at the later stage)\n",
    "        - album name and its release date\n",
    "    '''\n",
    "\n",
    "    q = \"track: {t_name} artist: {a_name}\".format(t_name=t_name,\n",
    "                                                  a_name=a_name)\n",
    "\n",
    "    track_items = spotify.search(q=q)['tracks']['items']\n",
    "    results = {}\n",
    "    for match_position, item in enumerate(track_items):\n",
    "        track_id = item['id']\n",
    "        track_name = item['name']\n",
    "        artist_name = item['artists'][0]['name']\n",
    "\n",
    "        album_data = item['album']\n",
    "        album_name = album_data['name']\n",
    "        album_r_date = album_data['release_date']\n",
    "\n",
    "        results[track_id] = [track_name, album_name, artist_name, album_r_date, match_position]\n",
    "        \n",
    "    return results\n",
    "\n",
    "def get_metadata_df(artist_tracks):\n",
    "    '''Downloads metadata for all track-artist paris.\n",
    "    Output: pandas df'''\n",
    "    \n",
    "    df = pd.DataFrame()\n",
    "    for item in artist_tracks:\n",
    "        t_name, a_name = item \n",
    "        results = get_track_metadata(t_name, a_name)\n",
    "        results_df = pd.DataFrame(results).T\n",
    "        df = df.append(results_df)    \n",
    "    \n",
    "    return df\n",
    "    \n",
    "res =  get_metadata_df(distinct_artists_tracks[:3])"
   ]
  },
  {
   "cell_type": "markdown",
   "metadata": {},
   "source": [
    "Getting metadata for all top songs"
   ]
  },
  {
   "cell_type": "code",
   "execution_count": 320,
   "metadata": {},
   "outputs": [],
   "source": [
    "metadata_df = get_metadata_df(distinct_artists_tracks)"
   ]
  },
  {
   "cell_type": "markdown",
   "metadata": {},
   "source": [
    "Saving metadata for future use:"
   ]
  },
  {
   "cell_type": "code",
   "execution_count": 323,
   "metadata": {},
   "outputs": [],
   "source": [
    "metadata_df.to_csv('total_spotify_top_2019_meta.csv')"
   ]
  },
  {
   "cell_type": "markdown",
   "metadata": {},
   "source": [
    "Getting audio features for top songs:"
   ]
  },
  {
   "cell_type": "code",
   "execution_count": 363,
   "metadata": {},
   "outputs": [],
   "source": [
    "def get_audio_analysis(track_idx_lst):\n",
    "    '''Downloads audio analysis data for all track ids provided.\n",
    "    Output is a pandas df.'''\n",
    "    \n",
    "    idx = 0\n",
    "    step = 50\n",
    "    audio_results_df = pd.DataFrame()\n",
    "    \n",
    "    while idx < len(track_idx_lst):\n",
    "        meta_idx_lst = track_idx_lst[idx:idx+50]\n",
    "        audio_analysis = spotify.audio_features(meta_idx_lst)\n",
    "        results_df = pd.DataFrame({meta_idx_lst[idx]:analysis for idx,analysis in enumerate(audio_analysis)}).T\n",
    "        audio_results_df = audio_results_df.append(results_df)\n",
    "        idx+=step\n",
    "        \n",
    "    return audio_results_df"
   ]
  },
  {
   "cell_type": "code",
   "execution_count": null,
   "metadata": {},
   "outputs": [],
   "source": [
    "audio_results_df = get_audio_analysis(metadata_df.index.values)"
   ]
  },
  {
   "cell_type": "markdown",
   "metadata": {},
   "source": [
    "Let's look at the output tables:"
   ]
  },
  {
   "cell_type": "code",
   "execution_count": 446,
   "metadata": {},
   "outputs": [
    {
     "data": {
      "text/html": [
       "<div>\n",
       "<style scoped>\n",
       "    .dataframe tbody tr th:only-of-type {\n",
       "        vertical-align: middle;\n",
       "    }\n",
       "\n",
       "    .dataframe tbody tr th {\n",
       "        vertical-align: top;\n",
       "    }\n",
       "\n",
       "    .dataframe thead th {\n",
       "        text-align: right;\n",
       "    }\n",
       "</style>\n",
       "<table border=\"1\" class=\"dataframe\">\n",
       "  <thead>\n",
       "    <tr style=\"text-align: right;\">\n",
       "      <th></th>\n",
       "      <th>danceability</th>\n",
       "      <th>energy</th>\n",
       "      <th>key</th>\n",
       "      <th>loudness</th>\n",
       "      <th>mode</th>\n",
       "      <th>speechiness</th>\n",
       "      <th>acousticness</th>\n",
       "      <th>instrumentalness</th>\n",
       "      <th>liveness</th>\n",
       "      <th>valence</th>\n",
       "      <th>tempo</th>\n",
       "      <th>type</th>\n",
       "      <th>id</th>\n",
       "      <th>uri</th>\n",
       "      <th>track_href</th>\n",
       "      <th>analysis_url</th>\n",
       "      <th>duration_ms</th>\n",
       "      <th>time_signature</th>\n",
       "    </tr>\n",
       "  </thead>\n",
       "  <tbody>\n",
       "    <tr>\n",
       "      <th>3e9HZxeyfWwjeyPAMmWSSQ</th>\n",
       "      <td>0.717</td>\n",
       "      <td>0.653</td>\n",
       "      <td>1</td>\n",
       "      <td>-5.634</td>\n",
       "      <td>1</td>\n",
       "      <td>0.0658</td>\n",
       "      <td>0.229</td>\n",
       "      <td>0</td>\n",
       "      <td>0.101</td>\n",
       "      <td>0.412</td>\n",
       "      <td>106.966</td>\n",
       "      <td>audio_features</td>\n",
       "      <td>3e9HZxeyfWwjeyPAMmWSSQ</td>\n",
       "      <td>spotify:track:3e9HZxeyfWwjeyPAMmWSSQ</td>\n",
       "      <td>https://api.spotify.com/v1/tracks/3e9HZxeyfWwj...</td>\n",
       "      <td>https://api.spotify.com/v1/audio-analysis/3e9H...</td>\n",
       "      <td>207320</td>\n",
       "      <td>4</td>\n",
       "    </tr>\n",
       "    <tr>\n",
       "      <th>6AZaeRAPYnf5nKwV7HpSlQ</th>\n",
       "      <td>0.43</td>\n",
       "      <td>0.811</td>\n",
       "      <td>1</td>\n",
       "      <td>-5.511</td>\n",
       "      <td>1</td>\n",
       "      <td>0.101</td>\n",
       "      <td>0.027</td>\n",
       "      <td>0.0034</td>\n",
       "      <td>0.95</td>\n",
       "      <td>0.223</td>\n",
       "      <td>107.036</td>\n",
       "      <td>audio_features</td>\n",
       "      <td>6AZaeRAPYnf5nKwV7HpSlQ</td>\n",
       "      <td>spotify:track:6AZaeRAPYnf5nKwV7HpSlQ</td>\n",
       "      <td>https://api.spotify.com/v1/tracks/6AZaeRAPYnf5...</td>\n",
       "      <td>https://api.spotify.com/v1/audio-analysis/6AZa...</td>\n",
       "      <td>389728</td>\n",
       "      <td>4</td>\n",
       "    </tr>\n",
       "    <tr>\n",
       "      <th>4KBx9DSSbFaumwlEqjX4CP</th>\n",
       "      <td>0.743</td>\n",
       "      <td>0.662</td>\n",
       "      <td>1</td>\n",
       "      <td>-5.745</td>\n",
       "      <td>1</td>\n",
       "      <td>0.0534</td>\n",
       "      <td>0.268</td>\n",
       "      <td>1.36e-06</td>\n",
       "      <td>0.102</td>\n",
       "      <td>0.408</td>\n",
       "      <td>107.027</td>\n",
       "      <td>audio_features</td>\n",
       "      <td>4KBx9DSSbFaumwlEqjX4CP</td>\n",
       "      <td>spotify:track:4KBx9DSSbFaumwlEqjX4CP</td>\n",
       "      <td>https://api.spotify.com/v1/tracks/4KBx9DSSbFau...</td>\n",
       "      <td>https://api.spotify.com/v1/audio-analysis/4KBx...</td>\n",
       "      <td>207320</td>\n",
       "      <td>4</td>\n",
       "    </tr>\n",
       "    <tr>\n",
       "      <th>2IgQVWTHQGtQBIAJker7ml</th>\n",
       "      <td>0.741</td>\n",
       "      <td>0.686</td>\n",
       "      <td>1</td>\n",
       "      <td>-5.095</td>\n",
       "      <td>1</td>\n",
       "      <td>0.0546</td>\n",
       "      <td>0.22</td>\n",
       "      <td>1.81e-06</td>\n",
       "      <td>0.114</td>\n",
       "      <td>0.393</td>\n",
       "      <td>106.906</td>\n",
       "      <td>audio_features</td>\n",
       "      <td>2IgQVWTHQGtQBIAJker7ml</td>\n",
       "      <td>spotify:track:2IgQVWTHQGtQBIAJker7ml</td>\n",
       "      <td>https://api.spotify.com/v1/tracks/2IgQVWTHQGtQ...</td>\n",
       "      <td>https://api.spotify.com/v1/audio-analysis/2IgQ...</td>\n",
       "      <td>204280</td>\n",
       "      <td>4</td>\n",
       "    </tr>\n",
       "    <tr>\n",
       "      <th>3KkXRkHbMCARz0aVfEt68P</th>\n",
       "      <td>0.76</td>\n",
       "      <td>0.479</td>\n",
       "      <td>2</td>\n",
       "      <td>-5.574</td>\n",
       "      <td>1</td>\n",
       "      <td>0.0466</td>\n",
       "      <td>0.556</td>\n",
       "      <td>0</td>\n",
       "      <td>0.0703</td>\n",
       "      <td>0.913</td>\n",
       "      <td>89.911</td>\n",
       "      <td>audio_features</td>\n",
       "      <td>3KkXRkHbMCARz0aVfEt68P</td>\n",
       "      <td>spotify:track:3KkXRkHbMCARz0aVfEt68P</td>\n",
       "      <td>https://api.spotify.com/v1/tracks/3KkXRkHbMCAR...</td>\n",
       "      <td>https://api.spotify.com/v1/audio-analysis/3KkX...</td>\n",
       "      <td>158040</td>\n",
       "      <td>4</td>\n",
       "    </tr>\n",
       "  </tbody>\n",
       "</table>\n",
       "</div>"
      ],
      "text/plain": [
       "                       danceability energy key loudness mode speechiness  \\\n",
       "3e9HZxeyfWwjeyPAMmWSSQ        0.717  0.653   1   -5.634    1      0.0658   \n",
       "6AZaeRAPYnf5nKwV7HpSlQ         0.43  0.811   1   -5.511    1       0.101   \n",
       "4KBx9DSSbFaumwlEqjX4CP        0.743  0.662   1   -5.745    1      0.0534   \n",
       "2IgQVWTHQGtQBIAJker7ml        0.741  0.686   1   -5.095    1      0.0546   \n",
       "3KkXRkHbMCARz0aVfEt68P         0.76  0.479   2   -5.574    1      0.0466   \n",
       "\n",
       "                       acousticness instrumentalness liveness valence  \\\n",
       "3e9HZxeyfWwjeyPAMmWSSQ        0.229                0    0.101   0.412   \n",
       "6AZaeRAPYnf5nKwV7HpSlQ        0.027           0.0034     0.95   0.223   \n",
       "4KBx9DSSbFaumwlEqjX4CP        0.268         1.36e-06    0.102   0.408   \n",
       "2IgQVWTHQGtQBIAJker7ml         0.22         1.81e-06    0.114   0.393   \n",
       "3KkXRkHbMCARz0aVfEt68P        0.556                0   0.0703   0.913   \n",
       "\n",
       "                          tempo            type                      id  \\\n",
       "3e9HZxeyfWwjeyPAMmWSSQ  106.966  audio_features  3e9HZxeyfWwjeyPAMmWSSQ   \n",
       "6AZaeRAPYnf5nKwV7HpSlQ  107.036  audio_features  6AZaeRAPYnf5nKwV7HpSlQ   \n",
       "4KBx9DSSbFaumwlEqjX4CP  107.027  audio_features  4KBx9DSSbFaumwlEqjX4CP   \n",
       "2IgQVWTHQGtQBIAJker7ml  106.906  audio_features  2IgQVWTHQGtQBIAJker7ml   \n",
       "3KkXRkHbMCARz0aVfEt68P   89.911  audio_features  3KkXRkHbMCARz0aVfEt68P   \n",
       "\n",
       "                                                         uri  \\\n",
       "3e9HZxeyfWwjeyPAMmWSSQ  spotify:track:3e9HZxeyfWwjeyPAMmWSSQ   \n",
       "6AZaeRAPYnf5nKwV7HpSlQ  spotify:track:6AZaeRAPYnf5nKwV7HpSlQ   \n",
       "4KBx9DSSbFaumwlEqjX4CP  spotify:track:4KBx9DSSbFaumwlEqjX4CP   \n",
       "2IgQVWTHQGtQBIAJker7ml  spotify:track:2IgQVWTHQGtQBIAJker7ml   \n",
       "3KkXRkHbMCARz0aVfEt68P  spotify:track:3KkXRkHbMCARz0aVfEt68P   \n",
       "\n",
       "                                                               track_href  \\\n",
       "3e9HZxeyfWwjeyPAMmWSSQ  https://api.spotify.com/v1/tracks/3e9HZxeyfWwj...   \n",
       "6AZaeRAPYnf5nKwV7HpSlQ  https://api.spotify.com/v1/tracks/6AZaeRAPYnf5...   \n",
       "4KBx9DSSbFaumwlEqjX4CP  https://api.spotify.com/v1/tracks/4KBx9DSSbFau...   \n",
       "2IgQVWTHQGtQBIAJker7ml  https://api.spotify.com/v1/tracks/2IgQVWTHQGtQ...   \n",
       "3KkXRkHbMCARz0aVfEt68P  https://api.spotify.com/v1/tracks/3KkXRkHbMCAR...   \n",
       "\n",
       "                                                             analysis_url  \\\n",
       "3e9HZxeyfWwjeyPAMmWSSQ  https://api.spotify.com/v1/audio-analysis/3e9H...   \n",
       "6AZaeRAPYnf5nKwV7HpSlQ  https://api.spotify.com/v1/audio-analysis/6AZa...   \n",
       "4KBx9DSSbFaumwlEqjX4CP  https://api.spotify.com/v1/audio-analysis/4KBx...   \n",
       "2IgQVWTHQGtQBIAJker7ml  https://api.spotify.com/v1/audio-analysis/2IgQ...   \n",
       "3KkXRkHbMCARz0aVfEt68P  https://api.spotify.com/v1/audio-analysis/3KkX...   \n",
       "\n",
       "                       duration_ms time_signature  \n",
       "3e9HZxeyfWwjeyPAMmWSSQ      207320              4  \n",
       "6AZaeRAPYnf5nKwV7HpSlQ      389728              4  \n",
       "4KBx9DSSbFaumwlEqjX4CP      207320              4  \n",
       "2IgQVWTHQGtQBIAJker7ml      204280              4  \n",
       "3KkXRkHbMCARz0aVfEt68P      158040              4  "
      ]
     },
     "execution_count": 446,
     "metadata": {},
     "output_type": "execute_result"
    }
   ],
   "source": [
    "audio_results_df.head()"
   ]
  },
  {
   "cell_type": "code",
   "execution_count": 453,
   "metadata": {},
   "outputs": [
    {
     "data": {
      "text/html": [
       "<div>\n",
       "<style scoped>\n",
       "    .dataframe tbody tr th:only-of-type {\n",
       "        vertical-align: middle;\n",
       "    }\n",
       "\n",
       "    .dataframe tbody tr th {\n",
       "        vertical-align: top;\n",
       "    }\n",
       "\n",
       "    .dataframe thead th {\n",
       "        text-align: right;\n",
       "    }\n",
       "</style>\n",
       "<table border=\"1\" class=\"dataframe\">\n",
       "  <thead>\n",
       "    <tr style=\"text-align: right;\">\n",
       "      <th></th>\n",
       "      <th>track_name</th>\n",
       "      <th>album_name</th>\n",
       "      <th>artist_name</th>\n",
       "      <th>album_r_date</th>\n",
       "      <th>match_position</th>\n",
       "    </tr>\n",
       "  </thead>\n",
       "  <tbody>\n",
       "    <tr>\n",
       "      <th>3e9HZxeyfWwjeyPAMmWSSQ</th>\n",
       "      <td>thank u, next</td>\n",
       "      <td>thank u, next</td>\n",
       "      <td>Ariana Grande</td>\n",
       "      <td>2019-02-08</td>\n",
       "      <td>0</td>\n",
       "    </tr>\n",
       "    <tr>\n",
       "      <th>6AZaeRAPYnf5nKwV7HpSlQ</th>\n",
       "      <td>thank u, next - live</td>\n",
       "      <td>k bye for now (swt live)</td>\n",
       "      <td>Ariana Grande</td>\n",
       "      <td>2019-12-23</td>\n",
       "      <td>1</td>\n",
       "    </tr>\n",
       "  </tbody>\n",
       "</table>\n",
       "</div>"
      ],
      "text/plain": [
       "                                  track_name                album_name  \\\n",
       "3e9HZxeyfWwjeyPAMmWSSQ         thank u, next             thank u, next   \n",
       "6AZaeRAPYnf5nKwV7HpSlQ  thank u, next - live  k bye for now (swt live)   \n",
       "\n",
       "                          artist_name album_r_date match_position  \n",
       "3e9HZxeyfWwjeyPAMmWSSQ  Ariana Grande   2019-02-08              0  \n",
       "6AZaeRAPYnf5nKwV7HpSlQ  Ariana Grande   2019-12-23              1  "
      ]
     },
     "execution_count": 453,
     "metadata": {},
     "output_type": "execute_result"
    }
   ],
   "source": [
    "metadata_df.head(2)"
   ]
  },
  {
   "cell_type": "markdown",
   "metadata": {},
   "source": [
    "I will choose add names to metadata df"
   ]
  },
  {
   "cell_type": "code",
   "execution_count": 451,
   "metadata": {},
   "outputs": [],
   "source": [
    "meta_colnames = ['track_name', 'album_name', 'artist_name', 'album_r_date', 'match_position']\n",
    "metadata_df.columns = meta_colnames"
   ]
  },
  {
   "cell_type": "code",
   "execution_count": 452,
   "metadata": {},
   "outputs": [
    {
     "data": {
      "text/html": [
       "<div>\n",
       "<style scoped>\n",
       "    .dataframe tbody tr th:only-of-type {\n",
       "        vertical-align: middle;\n",
       "    }\n",
       "\n",
       "    .dataframe tbody tr th {\n",
       "        vertical-align: top;\n",
       "    }\n",
       "\n",
       "    .dataframe thead th {\n",
       "        text-align: right;\n",
       "    }\n",
       "</style>\n",
       "<table border=\"1\" class=\"dataframe\">\n",
       "  <thead>\n",
       "    <tr style=\"text-align: right;\">\n",
       "      <th></th>\n",
       "      <th>track_name</th>\n",
       "      <th>album_name</th>\n",
       "      <th>artist_name</th>\n",
       "      <th>album_r_date</th>\n",
       "      <th>match_position</th>\n",
       "    </tr>\n",
       "  </thead>\n",
       "  <tbody>\n",
       "    <tr>\n",
       "      <th>3e9HZxeyfWwjeyPAMmWSSQ</th>\n",
       "      <td>thank u, next</td>\n",
       "      <td>thank u, next</td>\n",
       "      <td>Ariana Grande</td>\n",
       "      <td>2019-02-08</td>\n",
       "      <td>0</td>\n",
       "    </tr>\n",
       "    <tr>\n",
       "      <th>6AZaeRAPYnf5nKwV7HpSlQ</th>\n",
       "      <td>thank u, next - live</td>\n",
       "      <td>k bye for now (swt live)</td>\n",
       "      <td>Ariana Grande</td>\n",
       "      <td>2019-12-23</td>\n",
       "      <td>1</td>\n",
       "    </tr>\n",
       "    <tr>\n",
       "      <th>4KBx9DSSbFaumwlEqjX4CP</th>\n",
       "      <td>thank u, next</td>\n",
       "      <td>thank u, next</td>\n",
       "      <td>Ariana Grande</td>\n",
       "      <td>2018-02-07</td>\n",
       "      <td>2</td>\n",
       "    </tr>\n",
       "    <tr>\n",
       "      <th>2IgQVWTHQGtQBIAJker7ml</th>\n",
       "      <td>thank u, next</td>\n",
       "      <td>NOW That's What I Call Music!, Vol. 70</td>\n",
       "      <td>Ariana Grande</td>\n",
       "      <td>2019-05-03</td>\n",
       "      <td>3</td>\n",
       "    </tr>\n",
       "    <tr>\n",
       "      <th>3KkXRkHbMCARz0aVfEt68P</th>\n",
       "      <td>Sunflower - Spider-Man: Into the Spider-Verse</td>\n",
       "      <td>Spider-Man: Into the Spider-Verse (Soundtrack ...</td>\n",
       "      <td>Post Malone</td>\n",
       "      <td>2018-12-14</td>\n",
       "      <td>0</td>\n",
       "    </tr>\n",
       "  </tbody>\n",
       "</table>\n",
       "</div>"
      ],
      "text/plain": [
       "                                                           track_name  \\\n",
       "3e9HZxeyfWwjeyPAMmWSSQ                                  thank u, next   \n",
       "6AZaeRAPYnf5nKwV7HpSlQ                           thank u, next - live   \n",
       "4KBx9DSSbFaumwlEqjX4CP                                  thank u, next   \n",
       "2IgQVWTHQGtQBIAJker7ml                                  thank u, next   \n",
       "3KkXRkHbMCARz0aVfEt68P  Sunflower - Spider-Man: Into the Spider-Verse   \n",
       "\n",
       "                                                               album_name  \\\n",
       "3e9HZxeyfWwjeyPAMmWSSQ                                      thank u, next   \n",
       "6AZaeRAPYnf5nKwV7HpSlQ                           k bye for now (swt live)   \n",
       "4KBx9DSSbFaumwlEqjX4CP                                      thank u, next   \n",
       "2IgQVWTHQGtQBIAJker7ml             NOW That's What I Call Music!, Vol. 70   \n",
       "3KkXRkHbMCARz0aVfEt68P  Spider-Man: Into the Spider-Verse (Soundtrack ...   \n",
       "\n",
       "                          artist_name album_r_date match_position  \n",
       "3e9HZxeyfWwjeyPAMmWSSQ  Ariana Grande   2019-02-08              0  \n",
       "6AZaeRAPYnf5nKwV7HpSlQ  Ariana Grande   2019-12-23              1  \n",
       "4KBx9DSSbFaumwlEqjX4CP  Ariana Grande   2018-02-07              2  \n",
       "2IgQVWTHQGtQBIAJker7ml  Ariana Grande   2019-05-03              3  \n",
       "3KkXRkHbMCARz0aVfEt68P    Post Malone   2018-12-14              0  "
      ]
     },
     "execution_count": 452,
     "metadata": {},
     "output_type": "execute_result"
    }
   ],
   "source": [
    "metadata_df.head()"
   ]
  },
  {
   "cell_type": "markdown",
   "metadata": {},
   "source": [
    "I think for the purpose of this analysis I will narrow down matches to first match -i.e. ```match_position``` param equals 0"
   ]
  },
  {
   "cell_type": "code",
   "execution_count": 454,
   "metadata": {},
   "outputs": [],
   "source": [
    "metadata_first_df = metadata_df[metadata_df['match_position'] == 0]"
   ]
  },
  {
   "cell_type": "markdown",
   "metadata": {},
   "source": [
    "Now let's join 2 tables: \n",
    "- first with top songs spotify id - track+artist name mapping with\n",
    "- second regarding audio features of tracks "
   ]
  },
  {
   "cell_type": "code",
   "execution_count": 460,
   "metadata": {},
   "outputs": [
    {
     "data": {
      "text/plain": [
       "((1023, 5), (3479, 18))"
      ]
     },
     "execution_count": 460,
     "metadata": {},
     "output_type": "execute_result"
    }
   ],
   "source": [
    "metadata_first_df.shape, audio_results_df.shape"
   ]
  },
  {
   "cell_type": "markdown",
   "metadata": {},
   "source": [
    "I suspect there are some duplicates in both tables - I will get rid of duplicated spotify ids in both tables before joining tables to avoid many-to-many joining issue."
   ]
  },
  {
   "cell_type": "code",
   "execution_count": 471,
   "metadata": {},
   "outputs": [],
   "source": [
    "metadata_first_df = metadata_first_df.drop_duplicates()"
   ]
  },
  {
   "cell_type": "code",
   "execution_count": 474,
   "metadata": {},
   "outputs": [],
   "source": [
    "audio_results_df = audio_results_df.drop_duplicates()"
   ]
  },
  {
   "cell_type": "code",
   "execution_count": 477,
   "metadata": {},
   "outputs": [],
   "source": [
    "tracks_analysis_df = metadata_first_df.merge(audio_results_df, left_index=True, right_index=True, how='inner')"
   ]
  },
  {
   "cell_type": "code",
   "execution_count": 478,
   "metadata": {},
   "outputs": [
    {
     "data": {
      "text/plain": [
       "((994, 5), (994, 23), (3382, 18))"
      ]
     },
     "execution_count": 478,
     "metadata": {},
     "output_type": "execute_result"
    }
   ],
   "source": [
    "metadata_first_df.shape, tracks_analysis_df.shape, audio_results_df.shape"
   ]
  },
  {
   "cell_type": "code",
   "execution_count": 479,
   "metadata": {},
   "outputs": [
    {
     "data": {
      "text/html": [
       "<div>\n",
       "<style scoped>\n",
       "    .dataframe tbody tr th:only-of-type {\n",
       "        vertical-align: middle;\n",
       "    }\n",
       "\n",
       "    .dataframe tbody tr th {\n",
       "        vertical-align: top;\n",
       "    }\n",
       "\n",
       "    .dataframe thead th {\n",
       "        text-align: right;\n",
       "    }\n",
       "</style>\n",
       "<table border=\"1\" class=\"dataframe\">\n",
       "  <thead>\n",
       "    <tr style=\"text-align: right;\">\n",
       "      <th></th>\n",
       "      <th>track_name</th>\n",
       "      <th>album_name</th>\n",
       "      <th>artist_name</th>\n",
       "      <th>album_r_date</th>\n",
       "      <th>match_position</th>\n",
       "      <th>danceability</th>\n",
       "      <th>energy</th>\n",
       "      <th>key</th>\n",
       "      <th>loudness</th>\n",
       "      <th>mode</th>\n",
       "      <th>...</th>\n",
       "      <th>liveness</th>\n",
       "      <th>valence</th>\n",
       "      <th>tempo</th>\n",
       "      <th>type</th>\n",
       "      <th>id</th>\n",
       "      <th>uri</th>\n",
       "      <th>track_href</th>\n",
       "      <th>analysis_url</th>\n",
       "      <th>duration_ms</th>\n",
       "      <th>time_signature</th>\n",
       "    </tr>\n",
       "  </thead>\n",
       "  <tbody>\n",
       "    <tr>\n",
       "      <th>3e9HZxeyfWwjeyPAMmWSSQ</th>\n",
       "      <td>thank u, next</td>\n",
       "      <td>thank u, next</td>\n",
       "      <td>Ariana Grande</td>\n",
       "      <td>2019-02-08</td>\n",
       "      <td>0</td>\n",
       "      <td>0.717</td>\n",
       "      <td>0.653</td>\n",
       "      <td>1</td>\n",
       "      <td>-5.634</td>\n",
       "      <td>1</td>\n",
       "      <td>...</td>\n",
       "      <td>0.101</td>\n",
       "      <td>0.412</td>\n",
       "      <td>106.966</td>\n",
       "      <td>audio_features</td>\n",
       "      <td>3e9HZxeyfWwjeyPAMmWSSQ</td>\n",
       "      <td>spotify:track:3e9HZxeyfWwjeyPAMmWSSQ</td>\n",
       "      <td>https://api.spotify.com/v1/tracks/3e9HZxeyfWwj...</td>\n",
       "      <td>https://api.spotify.com/v1/audio-analysis/3e9H...</td>\n",
       "      <td>207320</td>\n",
       "      <td>4</td>\n",
       "    </tr>\n",
       "    <tr>\n",
       "      <th>3KkXRkHbMCARz0aVfEt68P</th>\n",
       "      <td>Sunflower - Spider-Man: Into the Spider-Verse</td>\n",
       "      <td>Spider-Man: Into the Spider-Verse (Soundtrack ...</td>\n",
       "      <td>Post Malone</td>\n",
       "      <td>2018-12-14</td>\n",
       "      <td>0</td>\n",
       "      <td>0.76</td>\n",
       "      <td>0.479</td>\n",
       "      <td>2</td>\n",
       "      <td>-5.574</td>\n",
       "      <td>1</td>\n",
       "      <td>...</td>\n",
       "      <td>0.0703</td>\n",
       "      <td>0.913</td>\n",
       "      <td>89.911</td>\n",
       "      <td>audio_features</td>\n",
       "      <td>3KkXRkHbMCARz0aVfEt68P</td>\n",
       "      <td>spotify:track:3KkXRkHbMCARz0aVfEt68P</td>\n",
       "      <td>https://api.spotify.com/v1/tracks/3KkXRkHbMCAR...</td>\n",
       "      <td>https://api.spotify.com/v1/audio-analysis/3KkX...</td>\n",
       "      <td>158040</td>\n",
       "      <td>4</td>\n",
       "    </tr>\n",
       "    <tr>\n",
       "      <th>7xQAfvXzm3AkraOtGPWIZg</th>\n",
       "      <td>Wow.</td>\n",
       "      <td>Hollywood's Bleeding</td>\n",
       "      <td>Post Malone</td>\n",
       "      <td>2019-09-06</td>\n",
       "      <td>0</td>\n",
       "      <td>0.829</td>\n",
       "      <td>0.539</td>\n",
       "      <td>11</td>\n",
       "      <td>-7.359</td>\n",
       "      <td>0</td>\n",
       "      <td>...</td>\n",
       "      <td>0.103</td>\n",
       "      <td>0.388</td>\n",
       "      <td>99.96</td>\n",
       "      <td>audio_features</td>\n",
       "      <td>7xQAfvXzm3AkraOtGPWIZg</td>\n",
       "      <td>spotify:track:7xQAfvXzm3AkraOtGPWIZg</td>\n",
       "      <td>https://api.spotify.com/v1/tracks/7xQAfvXzm3Ak...</td>\n",
       "      <td>https://api.spotify.com/v1/audio-analysis/7xQA...</td>\n",
       "      <td>149547</td>\n",
       "      <td>4</td>\n",
       "    </tr>\n",
       "    <tr>\n",
       "      <th>4w8niZpiMy6qz1mntFA5uM</th>\n",
       "      <td>Taki Taki (with Selena Gomez, Ozuna &amp; Cardi B)</td>\n",
       "      <td>Taki Taki (with Selena Gomez, Ozuna &amp; Cardi B)</td>\n",
       "      <td>DJ Snake</td>\n",
       "      <td>2018-09-28</td>\n",
       "      <td>0</td>\n",
       "      <td>0.842</td>\n",
       "      <td>0.801</td>\n",
       "      <td>8</td>\n",
       "      <td>-4.167</td>\n",
       "      <td>0</td>\n",
       "      <td>...</td>\n",
       "      <td>0.0642</td>\n",
       "      <td>0.617</td>\n",
       "      <td>95.881</td>\n",
       "      <td>audio_features</td>\n",
       "      <td>4w8niZpiMy6qz1mntFA5uM</td>\n",
       "      <td>spotify:track:4w8niZpiMy6qz1mntFA5uM</td>\n",
       "      <td>https://api.spotify.com/v1/tracks/4w8niZpiMy6q...</td>\n",
       "      <td>https://api.spotify.com/v1/audio-analysis/4w8n...</td>\n",
       "      <td>212500</td>\n",
       "      <td>4</td>\n",
       "    </tr>\n",
       "    <tr>\n",
       "      <th>5p7ujcrUXASCNwRaWNHR1C</th>\n",
       "      <td>Without Me</td>\n",
       "      <td>Without Me</td>\n",
       "      <td>Halsey</td>\n",
       "      <td>2018-10-04</td>\n",
       "      <td>0</td>\n",
       "      <td>0.752</td>\n",
       "      <td>0.488</td>\n",
       "      <td>6</td>\n",
       "      <td>-7.05</td>\n",
       "      <td>1</td>\n",
       "      <td>...</td>\n",
       "      <td>0.0936</td>\n",
       "      <td>0.533</td>\n",
       "      <td>136.041</td>\n",
       "      <td>audio_features</td>\n",
       "      <td>5p7ujcrUXASCNwRaWNHR1C</td>\n",
       "      <td>spotify:track:5p7ujcrUXASCNwRaWNHR1C</td>\n",
       "      <td>https://api.spotify.com/v1/tracks/5p7ujcrUXASC...</td>\n",
       "      <td>https://api.spotify.com/v1/audio-analysis/5p7u...</td>\n",
       "      <td>201661</td>\n",
       "      <td>4</td>\n",
       "    </tr>\n",
       "  </tbody>\n",
       "</table>\n",
       "<p>5 rows × 23 columns</p>\n",
       "</div>"
      ],
      "text/plain": [
       "                                                            track_name  \\\n",
       "3e9HZxeyfWwjeyPAMmWSSQ                                   thank u, next   \n",
       "3KkXRkHbMCARz0aVfEt68P   Sunflower - Spider-Man: Into the Spider-Verse   \n",
       "7xQAfvXzm3AkraOtGPWIZg                                            Wow.   \n",
       "4w8niZpiMy6qz1mntFA5uM  Taki Taki (with Selena Gomez, Ozuna & Cardi B)   \n",
       "5p7ujcrUXASCNwRaWNHR1C                                      Without Me   \n",
       "\n",
       "                                                               album_name  \\\n",
       "3e9HZxeyfWwjeyPAMmWSSQ                                      thank u, next   \n",
       "3KkXRkHbMCARz0aVfEt68P  Spider-Man: Into the Spider-Verse (Soundtrack ...   \n",
       "7xQAfvXzm3AkraOtGPWIZg                               Hollywood's Bleeding   \n",
       "4w8niZpiMy6qz1mntFA5uM     Taki Taki (with Selena Gomez, Ozuna & Cardi B)   \n",
       "5p7ujcrUXASCNwRaWNHR1C                                         Without Me   \n",
       "\n",
       "                          artist_name album_r_date match_position  \\\n",
       "3e9HZxeyfWwjeyPAMmWSSQ  Ariana Grande   2019-02-08              0   \n",
       "3KkXRkHbMCARz0aVfEt68P    Post Malone   2018-12-14              0   \n",
       "7xQAfvXzm3AkraOtGPWIZg    Post Malone   2019-09-06              0   \n",
       "4w8niZpiMy6qz1mntFA5uM       DJ Snake   2018-09-28              0   \n",
       "5p7ujcrUXASCNwRaWNHR1C         Halsey   2018-10-04              0   \n",
       "\n",
       "                       danceability energy key loudness mode  ... liveness  \\\n",
       "3e9HZxeyfWwjeyPAMmWSSQ        0.717  0.653   1   -5.634    1  ...    0.101   \n",
       "3KkXRkHbMCARz0aVfEt68P         0.76  0.479   2   -5.574    1  ...   0.0703   \n",
       "7xQAfvXzm3AkraOtGPWIZg        0.829  0.539  11   -7.359    0  ...    0.103   \n",
       "4w8niZpiMy6qz1mntFA5uM        0.842  0.801   8   -4.167    0  ...   0.0642   \n",
       "5p7ujcrUXASCNwRaWNHR1C        0.752  0.488   6    -7.05    1  ...   0.0936   \n",
       "\n",
       "                       valence    tempo            type  \\\n",
       "3e9HZxeyfWwjeyPAMmWSSQ   0.412  106.966  audio_features   \n",
       "3KkXRkHbMCARz0aVfEt68P   0.913   89.911  audio_features   \n",
       "7xQAfvXzm3AkraOtGPWIZg   0.388    99.96  audio_features   \n",
       "4w8niZpiMy6qz1mntFA5uM   0.617   95.881  audio_features   \n",
       "5p7ujcrUXASCNwRaWNHR1C   0.533  136.041  audio_features   \n",
       "\n",
       "                                            id  \\\n",
       "3e9HZxeyfWwjeyPAMmWSSQ  3e9HZxeyfWwjeyPAMmWSSQ   \n",
       "3KkXRkHbMCARz0aVfEt68P  3KkXRkHbMCARz0aVfEt68P   \n",
       "7xQAfvXzm3AkraOtGPWIZg  7xQAfvXzm3AkraOtGPWIZg   \n",
       "4w8niZpiMy6qz1mntFA5uM  4w8niZpiMy6qz1mntFA5uM   \n",
       "5p7ujcrUXASCNwRaWNHR1C  5p7ujcrUXASCNwRaWNHR1C   \n",
       "\n",
       "                                                         uri  \\\n",
       "3e9HZxeyfWwjeyPAMmWSSQ  spotify:track:3e9HZxeyfWwjeyPAMmWSSQ   \n",
       "3KkXRkHbMCARz0aVfEt68P  spotify:track:3KkXRkHbMCARz0aVfEt68P   \n",
       "7xQAfvXzm3AkraOtGPWIZg  spotify:track:7xQAfvXzm3AkraOtGPWIZg   \n",
       "4w8niZpiMy6qz1mntFA5uM  spotify:track:4w8niZpiMy6qz1mntFA5uM   \n",
       "5p7ujcrUXASCNwRaWNHR1C  spotify:track:5p7ujcrUXASCNwRaWNHR1C   \n",
       "\n",
       "                                                               track_href  \\\n",
       "3e9HZxeyfWwjeyPAMmWSSQ  https://api.spotify.com/v1/tracks/3e9HZxeyfWwj...   \n",
       "3KkXRkHbMCARz0aVfEt68P  https://api.spotify.com/v1/tracks/3KkXRkHbMCAR...   \n",
       "7xQAfvXzm3AkraOtGPWIZg  https://api.spotify.com/v1/tracks/7xQAfvXzm3Ak...   \n",
       "4w8niZpiMy6qz1mntFA5uM  https://api.spotify.com/v1/tracks/4w8niZpiMy6q...   \n",
       "5p7ujcrUXASCNwRaWNHR1C  https://api.spotify.com/v1/tracks/5p7ujcrUXASC...   \n",
       "\n",
       "                                                             analysis_url  \\\n",
       "3e9HZxeyfWwjeyPAMmWSSQ  https://api.spotify.com/v1/audio-analysis/3e9H...   \n",
       "3KkXRkHbMCARz0aVfEt68P  https://api.spotify.com/v1/audio-analysis/3KkX...   \n",
       "7xQAfvXzm3AkraOtGPWIZg  https://api.spotify.com/v1/audio-analysis/7xQA...   \n",
       "4w8niZpiMy6qz1mntFA5uM  https://api.spotify.com/v1/audio-analysis/4w8n...   \n",
       "5p7ujcrUXASCNwRaWNHR1C  https://api.spotify.com/v1/audio-analysis/5p7u...   \n",
       "\n",
       "                       duration_ms time_signature  \n",
       "3e9HZxeyfWwjeyPAMmWSSQ      207320              4  \n",
       "3KkXRkHbMCARz0aVfEt68P      158040              4  \n",
       "7xQAfvXzm3AkraOtGPWIZg      149547              4  \n",
       "4w8niZpiMy6qz1mntFA5uM      212500              4  \n",
       "5p7ujcrUXASCNwRaWNHR1C      201661              4  \n",
       "\n",
       "[5 rows x 23 columns]"
      ]
     },
     "execution_count": 479,
     "metadata": {},
     "output_type": "execute_result"
    }
   ],
   "source": [
    "tracks_analysis_df.head()"
   ]
  },
  {
   "cell_type": "code",
   "execution_count": 480,
   "metadata": {},
   "outputs": [
    {
     "data": {
      "text/plain": [
       "Index(['track_name', 'album_name', 'artist_name', 'album_r_date',\n",
       "       'match_position', 'danceability', 'energy', 'key', 'loudness', 'mode',\n",
       "       'speechiness', 'acousticness', 'instrumentalness', 'liveness',\n",
       "       'valence', 'tempo', 'type', 'id', 'uri', 'track_href', 'analysis_url',\n",
       "       'duration_ms', 'time_signature'],\n",
       "      dtype='object')"
      ]
     },
     "execution_count": 480,
     "metadata": {},
     "output_type": "execute_result"
    }
   ],
   "source": [
    "tracks_analysis_df.columns"
   ]
  },
  {
   "cell_type": "code",
   "execution_count": 441,
   "metadata": {},
   "outputs": [],
   "source": [
    "# Mapping of keys integers to tones\n",
    "# https://en.wikipedia.org/wiki/Pitch_class"
   ]
  },
  {
   "cell_type": "markdown",
   "metadata": {},
   "source": [
    "Next steps (tbc):\n",
    "\n",
    "- analysis of top songs acoustic features\n",
    "- do top performers (i.e. songs that stayed in the top songs for more than 14 weeks (75th percentile) differ from rest of top songs?) "
   ]
  }
 ],
 "metadata": {
  "kernelspec": {
   "display_name": "Python 3",
   "language": "python",
   "name": "python3"
  },
  "language_info": {
   "codemirror_mode": {
    "name": "ipython",
    "version": 3
   },
   "file_extension": ".py",
   "mimetype": "text/x-python",
   "name": "python",
   "nbconvert_exporter": "python",
   "pygments_lexer": "ipython3",
   "version": "3.7.5"
  }
 },
 "nbformat": 4,
 "nbformat_minor": 2
}
